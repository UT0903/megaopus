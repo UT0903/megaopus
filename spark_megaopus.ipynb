{
 "cells": [
  {
   "cell_type": "code",
   "execution_count": 1,
   "id": "5ff47d12",
   "metadata": {},
   "outputs": [],
   "source": [
    "import pyspark\n",
    "from pyspark.sql import SparkSession\n",
    "from pyspark import SparkContext\n",
    "from pyspark.sql import functions as F\n",
    "from pyspark.sql import types as T\n",
    "from pyspark.sql import Window as W\n",
    "from pyspark.conf import SparkConf\n",
    "from pyspark.ml.clustering import KMeans\n",
    "from pyspark.ml.evaluation import ClusteringEvaluator\n",
    "import pandas as pd\n",
    "from pyspark.mllib.feature import HashingTF, IDF\n",
    "import os\n",
    "import pyspark\n",
    "from pyspark.sql import SparkSession\n",
    "from pyspark.sql import functions as F\n",
    "from pyspark.sql import types as T\n",
    "from pyspark.sql import Window as W\n",
    "from pyspark.conf import SparkConf"
   ]
  },
  {
   "cell_type": "code",
   "execution_count": 2,
   "id": "760b9149",
   "metadata": {},
   "outputs": [
    {
     "name": "stderr",
     "output_type": "stream",
     "text": [
      "WARNING: An illegal reflective access operation has occurred\n",
      "WARNING: Illegal reflective access by org.apache.spark.unsafe.Platform (file:/home/jovyan/spark-3.1.1-bin-hadoop2.7/jars/spark-unsafe_2.12-3.1.1.jar) to constructor java.nio.DirectByteBuffer(long,int)\n",
      "WARNING: Please consider reporting this to the maintainers of org.apache.spark.unsafe.Platform\n",
      "WARNING: Use --illegal-access=warn to enable warnings of further illegal reflective access operations\n",
      "WARNING: All illegal access operations will be denied in a future release\n",
      "22/02/17 07:06:06 WARN NativeCodeLoader: Unable to load native-hadoop library for your platform... using builtin-java classes where applicable\n",
      "Using Spark's default log4j profile: org/apache/spark/log4j-defaults.properties\n",
      "Setting default log level to \"WARN\".\n",
      "To adjust logging level use sc.setLogLevel(newLevel). For SparkR, use setLogLevel(newLevel).\n"
     ]
    },
    {
     "data": {
      "text/plain": [
       "[('spark.driver.port', '34837'),\n",
       " ('spark.kubernetes.executor.request.cores', '16'),\n",
       " ('spark.kubernetes.executor.annotation.k8s.aliyun.com/eci-use-specs',\n",
       "  '16-32Gi'),\n",
       " ('spark.kubernetes.authenticate.driver.serviceAccountName', 'spark'),\n",
       " ('spark.master', 'k8s://https://10.122.0.1'),\n",
       " ('spark.kubernetes.container.image',\n",
       "  'docker-registry.netbase.com/de/base-images/spark-py:1.2.0-spark3.1.1-test'),\n",
       " ('spark.hadoop.dfs.namenode.rpc-address.nb.h1', 'h3001.ali-netbase.com:9820'),\n",
       " ('spark.kubernetes.allocation.batch.size', '1'),\n",
       " ('spark.kubernetes.executor.label.eci', 'true'),\n",
       " ('spark.kubernetes.pyspark.pythonVersion', '3'),\n",
       " ('spark.kubernetes.executor.podNamePrefix',\n",
       "  'jupyterhub-user-ali40netbase-com-bc97137f0680a60c'),\n",
       " ('spark.hadoop.fs.hdfs.impl', 'org.apache.hadoop.hdfs.DistributedFileSystem'),\n",
       " ('spark.app.startTime', '1645081567489'),\n",
       " ('spark.sql.warehouse.dir', 'file:/home/jovyan/megaopus/spark-warehouse'),\n",
       " ('spark.serializer.objectStreamReset', '100'),\n",
       " ('spark.default.parallelism', '32'),\n",
       " ('spark.executor.cores', '16'),\n",
       " ('spark.submit.deployMode', 'client'),\n",
       " ('spark.hadoop.dfs.namenode.rpc-address.nb.h2', 'h3101.ali-netbase.com:9820'),\n",
       " ('spark.kubernetes.container.image.pullPolicy', 'Always'),\n",
       " ('spark.executorEnv.HADOOP_USER_NAME', 'woot'),\n",
       " ('spark.executor.memory', '24g'),\n",
       " ('spark.hadoop.fs.defaultFS', 'hdfs://nb:9820'),\n",
       " ('spark.driver.host', '172.25.16.29'),\n",
       " ('spark.kubernetes.executorEnv.HADOOP_USER_NAME', 'woot'),\n",
       " ('spark.executor.id', 'driver'),\n",
       " ('spark.hadoop.dfs.ha.namenodes.nb', 'h1,h2'),\n",
       " ('spark.driver.cores', '16'),\n",
       " ('spark.hadoop.conf', 'org.apache.hadoop.hdfs.HdfsConfiguration'),\n",
       " ('spark.app.name', 'jupyterhub-user-ali%40netbase.com'),\n",
       " ('spark.hadoop.dfs.client.failover.proxy.provider.nb',\n",
       "  'org.apache.hadoop.hdfs.server.namenode.ha.ConfiguredFailoverProxyProvider'),\n",
       " ('spark.kubernetes.namespace', 'jupyterhub'),\n",
       " ('spark.rdd.compress', 'True'),\n",
       " ('spark.app.id', 'spark-application-1645081569124'),\n",
       " ('spark.executor.instances', '1'),\n",
       " ('spark.hadoop.fs.hdfs.server',\n",
       "  'org.apache.hadoop.hdfs.server.namenode.NameNode'),\n",
       " ('spark.hadoop.dfs.nameservices', 'nb'),\n",
       " ('spark.submit.pyFiles', ''),\n",
       " ('spark.kubernetes.executor.limit.cores', '16'),\n",
       " ('spark.ui.showConsoleProgress', 'true'),\n",
       " ('spark.driver.memory', '128g')]"
      ]
     },
     "execution_count": 2,
     "metadata": {},
     "output_type": "execute_result"
    }
   ],
   "source": [
    "conf= pyspark.SparkConf()\n",
    "conf.setMaster(\"k8s://https://\"+os.environ['KUBERNETES_SERVICE_HOST'])\n",
    " \n",
    "# For hdfs configuration\n",
    "conf.set(\"spark.hadoop.fs.hdfs.impl\", \"org.apache.hadoop.hdfs.DistributedFileSystem\")\n",
    "conf.set(\"spark.hadoop.fs.hdfs.server\", \"org.apache.hadoop.hdfs.server.namenode.NameNode\")\n",
    "conf.set(\"spark.hadoop.conf\", \"org.apache.hadoop.hdfs.HdfsConfiguration\")\n",
    "conf.set(\"spark.hadoop.dfs.nameservices\", \"nb\")\n",
    "conf.set(\"spark.hadoop.dfs.ha.namenodes.nb\", \"h1,h2\")\n",
    "conf.set(\"spark.hadoop.dfs.namenode.rpc-address.nb.h1\", \"h3001.ali-netbase.com:9820\")\n",
    "conf.set(\"spark.hadoop.dfs.namenode.rpc-address.nb.h2\", \"h3101.ali-netbase.com:9820\")\n",
    "conf.set(\"spark.hadoop.dfs.client.failover.proxy.provider.nb\", \"org.apache.hadoop.hdfs.server.namenode.ha.ConfiguredFailoverProxyProvider\")\n",
    "conf.set(\"spark.hadoop.fs.defaultFS\", \"hdfs://nb:9820\")\n",
    " \n",
    "# For kubernetes configration\n",
    "\n",
    "f_name = \"big_data.csv\"\n",
    "executor_cores=\"16\"\n",
    "executor_machine_memory=\"32\"\n",
    "executor_heap_memory=\"24\"\n",
    "executor_instances=\"1\"\n",
    "driver_cores=\"16\"\n",
    "driver_memory=\"128\"\n",
    " \n",
    "# request on-demand machines\n",
    "conf.set(\"spark.kubernetes.executor.label.eci\", \"true\")\n",
    "conf.set(\"spark.kubernetes.executor.annotation.k8s.aliyun.com/eci-use-specs\", \"{}-{}Gi\".format(executor_cores, executor_machine_memory))\n",
    "  \n",
    "# machine numbers\n",
    "conf.set(\"spark.executor.instances\", executor_instances)\n",
    "conf.set(\"spark.kubernetes.allocation.batch.size\", executor_instances)\n",
    " \n",
    "  \n",
    "# machine cpu numbers\n",
    "conf.set(\"spark.kubernetes.executor.request.cores\", executor_cores)\n",
    "conf.set(\"spark.kubernetes.executor.limit.cores\", executor_cores)\n",
    "conf.set(\"spark.executor.memory\", executor_heap_memory+\"g\")\n",
    "conf.set(\"spark.executor.cores\", executor_cores)\n",
    "conf.set(\"spark.driver.memory\", driver_memory+\"g\")\n",
    "conf.set(\"spark.driver.cores\", driver_cores)\n",
    "  \n",
    "# spark version\n",
    "# conf.set(\"spark.kubernetes.container.image\", \"maven-docker.netbase.com/spark-py:v2.4.6\")\n",
    "# conf.set(\"spark.kubernetes.container.image\", \"docker-registry.netbase.com/de/base-images/spark-py:1.2.0-spark3.1.1\")\n",
    "conf.set(\"spark.kubernetes.container.image\", \"docker-registry.netbase.com/de/base-images/spark-py:1.2.0-spark3.1.1-test\")\n",
    "conf.set(\"spark.kubernetes.container.image.pullPolicy\", \"Always\")\n",
    "  \n",
    "conf.set(\"spark.kubernetes.namespace\", \"jupyterhub\")\n",
    "conf.set(\"spark.driver.host\", os.environ['HOSTIP'])\n",
    "conf.set(\"spark.kubernetes.authenticate.driver.serviceAccountName\", \"spark\")\n",
    "conf.set('spark.submit.deployMode', 'client')\n",
    "conf.set('spark.kubernetes.pyspark.pythonVersion', \"3\")\n",
    "# tell spark executor act on behalf to user woot\n",
    "conf.set('spark.kubernetes.executorEnv.HADOOP_USER_NAME', \"woot\")\n",
    "conf.set('spark.executorEnv.HADOOP_USER_NAME', \"woot\")\n",
    " \n",
    "conf.set('spark.default.parallelism', '32')\n",
    " \n",
    "conf.setAppName( os.environ['JUPYTERHUB_CLIENT_ID'])\n",
    "spark = SparkSession.builder.config(conf=conf).getOrCreate()\n",
    "   \n",
    "spark.sparkContext.getConf().getAll()"
   ]
  },
  {
   "cell_type": "code",
   "execution_count": 3,
   "id": "584fdc34",
   "metadata": {},
   "outputs": [
    {
     "name": "stderr",
     "output_type": "stream",
     "text": [
      "                                                                                \r"
     ]
    },
    {
     "name": "stdout",
     "output_type": "stream",
     "text": [
      "+--------------------+\n",
      "|          word_array|\n",
      "+--------------------+\n",
      "|[#ESG, News:, Som...|\n",
      "|[@PippaStevens13,...|\n",
      "|[@AtlantaLiberal,...|\n",
      "|[IR, Trending, th...|\n",
      "|[@MikeBloomberg, ...|\n",
      "|[With, increased,...|\n",
      "|[@GeorgeSerafeim,...|\n",
      "|[Miners, using, n...|\n",
      "|[With, increased,...|\n",
      "|[With, increased,...|\n",
      "|[\"Fink, says, @bl...|\n",
      "|[Miners, using, n...|\n",
      "|[50, global, busi...|\n",
      "|[With, increased,...|\n",
      "|[Interested, in, ...|\n",
      "|[Mining, News:, M...|\n",
      "|[\"Enviro, Equity,...|\n",
      "|[We, need, this, ...|\n",
      "|[Top, #Compliance...|\n",
      "|[With, increased,...|\n",
      "+--------------------+\n",
      "only showing top 20 rows\n",
      "\n"
     ]
    }
   ],
   "source": [
    "path = 'hdfs://nb/ai-pipeline/megaopus_data/{}'.format(f_name)\n",
    "_df = spark.read.options(header=True, encoding=\"UTF-8\").csv(path)\n",
    "_df = _df[_df['Sound Bite Text'].isNotNull()]\n",
    "_df = _df.select(F.split(_df['Sound Bite Text'], \" \").alias('word_array'))\n",
    "_df.show()"
   ]
  },
  {
   "cell_type": "code",
   "execution_count": 4,
   "id": "95e0335a",
   "metadata": {
    "scrolled": true
   },
   "outputs": [
    {
     "name": "stdout",
     "output_type": "stream",
     "text": [
      "root\n",
      " |-- word_array: array (nullable = true)\n",
      " |    |-- element: string (containsNull = true)\n",
      "\n"
     ]
    }
   ],
   "source": [
    "_df.printSchema()"
   ]
  },
  {
   "cell_type": "code",
   "execution_count": 5,
   "id": "8c484c2f",
   "metadata": {},
   "outputs": [
    {
     "name": "stderr",
     "output_type": "stream",
     "text": [
      "                                                                                \r"
     ]
    },
    {
     "data": {
      "text/plain": [
       "SparseVector(100000, {585: 1.0, 4705: 1.0, 5145: 1.0, 7871: 1.0, 10266: 1.0, 13956: 1.0, 16017: 3.0, 21318: 1.0, 25209: 1.0, 26365: 1.0, 26467: 1.0, 30488: 1.0, 30578: 1.0, 31833: 1.0, 35578: 1.0, 44658: 1.0, 48540: 1.0, 51152: 1.0, 51299: 1.0, 52276: 1.0, 52671: 1.0, 55867: 1.0, 56721: 1.0, 59189: 1.0, 60364: 1.0, 62891: 1.0, 65581: 2.0, 69218: 1.0, 71266: 1.0, 75882: 1.0, 81991: 1.0, 85726: 1.0, 85870: 1.0, 90073: 1.0, 95553: 1.0, 99737: 1.0})"
      ]
     },
     "execution_count": 5,
     "metadata": {},
     "output_type": "execute_result"
    }
   ],
   "source": [
    "hashingTF = pyspark.ml.feature.HashingTF(inputCol=\"word_array\", outputCol=\"features\")\n",
    "hashingTF.setNumFeatures(100000)\n",
    "tf = hashingTF.transform(_df)\n",
    "tf.head().features"
   ]
  },
  {
   "cell_type": "code",
   "execution_count": 6,
   "id": "f9bc872e",
   "metadata": {},
   "outputs": [
    {
     "name": "stderr",
     "output_type": "stream",
     "text": [
      "[Stage 4:>                                                          (0 + 5) / 5]\r"
     ]
    },
    {
     "name": "stdout",
     "output_type": "stream",
     "text": [
      "root\n",
      " |-- word_array: array (nullable = true)\n",
      " |    |-- element: string (containsNull = true)\n",
      " |-- features: vector (nullable = true)\n",
      " |-- idf: vector (nullable = true)\n",
      "\n"
     ]
    },
    {
     "name": "stderr",
     "output_type": "stream",
     "text": [
      "                                                                                \r"
     ]
    }
   ],
   "source": [
    "tf.cache()\n",
    "idf_model = pyspark.ml.feature.IDF().setInputCol(\"features\").setOutputCol(\"idf\").fit(tf)\n",
    "tf_idf = idf_model.transform(tf)\n",
    "tf_idf.printSchema()"
   ]
  },
  {
   "cell_type": "code",
   "execution_count": null,
   "id": "7da541b1",
   "metadata": {},
   "outputs": [
    {
     "name": "stderr",
     "output_type": "stream",
     "text": [
      "22/02/17 07:07:09 WARN DAGScheduler: Broadcasting large task binary with size 1613.4 KiB\n",
      "22/02/17 07:07:10 WARN DAGScheduler: Broadcasting large task binary with size 1614.1 KiB\n",
      "22/02/17 07:07:10 WARN DAGScheduler: Broadcasting large task binary with size 1614.7 KiB\n",
      "22/02/17 07:07:11 WARN DAGScheduler: Broadcasting large task binary with size 1615.1 KiB\n",
      "22/02/17 07:07:11 WARN DAGScheduler: Broadcasting large task binary with size 1615.1 KiB\n",
      "22/02/17 07:07:20 WARN DAGScheduler: Broadcasting large task binary with size 1615.4 KiB\n",
      "22/02/17 07:07:21 WARN DAGScheduler: Broadcasting large task binary with size 1616.0 KiB\n",
      "22/02/17 07:07:47 WARN BLAS: Failed to load implementation from: com.github.fommil.netlib.NativeSystemBLAS\n",
      "22/02/17 07:07:47 WARN BLAS: Failed to load implementation from: com.github.fommil.netlib.NativeRefBLAS\n",
      "22/02/17 07:07:59 WARN DAGScheduler: Broadcasting large task binary with size 1615.3 KiB\n",
      "22/02/17 07:08:04 WARN DAGScheduler: Broadcasting large task binary with size 1615.3 KiB\n",
      "22/02/17 07:08:09 WARN DAGScheduler: Broadcasting large task binary with size 1615.3 KiB\n",
      "22/02/17 07:08:13 WARN DAGScheduler: Broadcasting large task binary with size 1615.3 KiB\n",
      "[Stage 23:>                                                       (0 + 16) / 32]\r"
     ]
    }
   ],
   "source": [
    "from datetime import datetime\n",
    "ta = datetime.now()\n",
    "kmeans = KMeans(featuresCol='idf', k=100).setSeed(1)\n",
    "tb = datetime.now()\n",
    "model = kmeans.fit(tf_idf)\n",
    "tc = datetime.now()\n",
    "predictions = model.transform(tf_idf)\n",
    "td = datetime.now()\n",
    "print('elapsed time:', td - ta)"
   ]
  },
  {
   "cell_type": "code",
   "execution_count": null,
   "id": "58feceb7",
   "metadata": {},
   "outputs": [],
   "source": [
    "predictions.show()"
   ]
  },
  {
   "cell_type": "code",
   "execution_count": null,
   "id": "7b71bdf1",
   "metadata": {},
   "outputs": [],
   "source": [
    "evaluator = ClusteringEvaluator(predictionCol='prediction', featuresCol='features', \\\n",
    "        metricName='silhouette', distanceMeasure='squaredEuclidean')\n",
    "silhouette = evaluator.evaluate(predictions)\n",
    "print(\"Silhouette with squared euclidean distance = \" + str(silhouette))"
   ]
  },
  {
   "cell_type": "code",
   "execution_count": null,
   "id": "e7648c5e",
   "metadata": {},
   "outputs": [],
   "source": [
    "predictions.groupBy('prediction').\\\n",
    "        count().\\\n",
    "        sort(F.desc('count')).\\\n",
    "        show(truncate=False)"
   ]
  },
  {
   "cell_type": "code",
   "execution_count": null,
   "id": "96ef6c73",
   "metadata": {},
   "outputs": [],
   "source": [
    "spark.stop()"
   ]
  }
 ],
 "metadata": {
  "kernelspec": {
   "display_name": "spark311_py39",
   "language": "python",
   "name": "spark311_py39"
  },
  "language_info": {
   "codemirror_mode": {
    "name": "ipython",
    "version": 3
   },
   "file_extension": ".py",
   "mimetype": "text/x-python",
   "name": "python",
   "nbconvert_exporter": "python",
   "pygments_lexer": "ipython3",
   "version": "3.9.5"
  }
 },
 "nbformat": 4,
 "nbformat_minor": 5
}
